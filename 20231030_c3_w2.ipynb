{
 "cells": [
  {
   "cell_type": "code",
   "execution_count": 47,
   "metadata": {},
   "outputs": [
    {
     "name": "stdout",
     "output_type": "stream",
     "text": [
      "Hello\n",
      "\n",
      "t_pos: 6, p_pos 6\n",
      "CCGGTGTTTGAC\n",
      "GATTATT\n",
      "compare T to T\n",
      "\n",
      "t_pos: 5, p_pos 5\n",
      "CCGGTGTTTGAC\n",
      "GATTATT\n",
      "compare G to T\n",
      "shift: 5\n",
      "\n",
      "t_pos: 11, p_pos 6\n",
      "CCGGTGTTTGAC\n",
      "-----GATTATT\n",
      "compare C to T\n",
      "shift: 7\n",
      "No match!\n"
     ]
    }
   ],
   "source": [
    "#Boyer-Moore\n",
    "import numpy as np\n",
    "\n",
    "t= 'CCGGTGTTTGAC'\n",
    "p= 'GATTATT'\n",
    "\n",
    "#columns: GATTATT\n",
    "#rows: A, T, C, G\n",
    "shiftRow_dict= {'A':0, 'T':1, 'C':2, 'G':3}\n",
    "mtx= np.array([[0,0,0,1,0,0,1],\n",
    "              [0,1,0,0,0,0,0],\n",
    "              [0,1,2,3,4,5,6],\n",
    "              [0,0,1,2,3,4,5]])\n",
    "\n",
    "t_pos= len(p)-1\n",
    "print('Hello')\n",
    "while(t_pos < len(t)):\n",
    "    left_steps= 0\n",
    "    for p_pos in [6,5,4,3,2,1,0]:\n",
    "        print('\\nt_pos: %i, p_pos %i' % (t_pos, p_pos))\n",
    "        print(t)\n",
    "        spacer= '-' * (t_pos-(len(p)-1))\n",
    "        print('%s%s' % (''.join(spacer), p))\n",
    "        print('compare %s to %s' % (t[t_pos], p[p_pos]))\n",
    "        if t[t_pos] != p[p_pos]:\n",
    "            shiftRow= shiftRow_dict[t[t_pos]]\n",
    "            shiftCol= p_pos\n",
    "            shift= mtx[shiftRow, shiftCol]+1\n",
    "            t_pos += shift + left_steps\n",
    "            print('shift: %i' %shift)\n",
    "            break\n",
    "        else:\n",
    "            t_pos -= 1\n",
    "            left_steps += 1\n",
    "\n",
    "    if (t_pos < len(t)):\n",
    "        if (p_pos==0) & (t[t_pos]==p[p_pos]):\n",
    "            print('Match')\n",
    "    else:\n",
    "        print('No match!')\n"
   ]
  },
  {
   "cell_type": "code",
   "execution_count": 2,
   "metadata": {},
   "outputs": [],
   "source": [
    "import bisect\n",
    "\n",
    "# k-mer matching\n",
    "class Index(object):\n",
    "    def __init__ (self, t, k):\n",
    "    #initialize lookup index\n",
    "        self.k= k\n",
    "        self.index= []\n",
    "        for pos in range(len(t)-k+1):\n",
    "            self.index.append((t[pos:pos+k],pos))\n",
    "        self.index.sort()\n",
    "    \n",
    "    def query(self, p):\n",
    "        kmer= p[:self.k]\n",
    "        pos= bisect.bisect_left(self.index, kmer)\n",
    "        hits= []\n",
    "        while i < len(self.index):\n",
    "            if (self.index[pos][0] != kmer):\n",
    "                break\n",
    "            else:\n",
    "                hits.append(self.index[pos][1])\n",
    "                pos += 1\n",
    "            return hits\n"
   ]
  }
 ],
 "metadata": {
  "kernelspec": {
   "display_name": "Python 3",
   "language": "python",
   "name": "python3"
  },
  "language_info": {
   "codemirror_mode": {
    "name": "ipython",
    "version": 3
   },
   "file_extension": ".py",
   "mimetype": "text/x-python",
   "name": "python",
   "nbconvert_exporter": "python",
   "pygments_lexer": "ipython3",
   "version": "3.10.0"
  }
 },
 "nbformat": 4,
 "nbformat_minor": 2
}
