{
 "cells": [
  {
   "cell_type": "code",
   "execution_count": 6,
   "metadata": {},
   "outputs": [
    {
     "name": "stdout",
     "output_type": "stream",
     "text": [
      "GGGCGGCGACCTCGCGGGTTTTCGCTATTTATGAAAATTTTCCGGTTTAAGGCGTTTCCGTTCTTCTTCGTCATAACTTAATGTTTTTATTTAAAATACCCTCTGAAAAGAAAGGAAACGACAGGTGCTGAAAGCGAGGCTTTTTGGCCTCTGTCGTTTCCTTTCTCTGTTTTTGTCCGTGGAATGAACAATGGAAGTCAACAAAAAGCAGCTGGCTGACATTTTCGGTGCGAGTATCCGTACCATTCAGAACTGGCAGGAACAGGGAATGCCCGTTCTGCGAGGCGGTGGCAAGGGTAA\n",
      "length 48502\n"
     ]
    }
   ],
   "source": [
    "def read_genome(filename):\n",
    "    # read the genome file\n",
    "    genome= ''\n",
    "    for line in open(filename):\n",
    "        if line[0] != '>':\n",
    "            genome += line.rstrip()\n",
    "    return(genome)\n",
    "\n",
    "genome= read_genome('lambda_virus.fa')\n",
    "print(genome[:300])\n",
    "print('length %s' %len(genome))"
   ]
  },
  {
   "cell_type": "code",
   "execution_count": 21,
   "metadata": {},
   "outputs": [
    {
     "name": "stdout",
     "output_type": "stream",
     "text": [
      "['HHHHHHHHHHHHHHHHHHHHHHHHHHHHHHHHHHHHHHHHHHHGFHHHFHFFHHHHHGHHFHEH@4#55554455HGFBF<@C>7EEF@FBEDDD<=C<E', 'HHHHHHHHHHHHHHHHHHHHHHHHHHHHHHHHHHHHHHHHHHHHHHHHHHHHHHHHCHHHHEHHBA#C>@54455C/7=CGHEGEB;C############', 'HHHHHHHHHHHHHHHHHHHHHHHHHHHHHHGHHHHHHHHHHHHHDHHHDEHHHHFGIHEHEGGGF4#45655366GIGEHAGBG################', 'HHHHHHHHHHHHHHHHHHHHHHHHHIHHHHHHHHHHHHHHHHHHHHHHIHHHHHIHFHHHIHHHHD#ECA54655GGIBH?BD@+BCBF?5A=::>8?##', 'HHHHHHHHHHHHHHHHHHHHHHHHHHHHHHHHHHHHHHHHHHHHHHHIHIHEHHIGHIFFHIIGF6#555:2=7=CB;?3CAACBAC2B###########']\n",
      "1000\n",
      "length from 100 to 100\n"
     ]
    }
   ],
   "source": [
    "def read_seq(filename):\n",
    "    #read the sequence files\n",
    "    qual_scores= []\n",
    "    sequences= []\n",
    "    #i=0\n",
    "    with open(filename) as file:\n",
    "        while(True):\n",
    "            #i += 1\n",
    "            #print('i: %i' %i)\n",
    "\n",
    "            file.readline() #ignore\n",
    "            seq= file.readline().rstrip() #quality\n",
    "            file.readline() #ignore\n",
    "            qual= file.readline().rstrip()\n",
    "            #print('seq: %s' %seq)\n",
    "\n",
    "            if len(seq) == 0:\n",
    "                break\n",
    "            qual_scores.append(qual)\n",
    "            sequences.append(seq)\n",
    "    return(qual_scores,sequences)\n",
    "\n",
    "quals, seqs= read_seq('ERR037900_1.first1000.fastq')\n",
    "print(quals[:5])\n",
    "print(len(seqs))\n",
    "\n",
    "min_len= 10000\n",
    "max_len= 0\n",
    "for s in seqs:\n",
    "    length= len(s)\n",
    "    if length < min_len:\n",
    "        min_len= length\n",
    "    if length > max_len:\n",
    "        max_len= length\n",
    "\n",
    "print('length from %i to %i' %(min_len, max_len))"
   ]
  },
  {
   "cell_type": "code",
   "execution_count": 8,
   "metadata": {},
   "outputs": [
    {
     "data": {
      "text/plain": [
       "'CTAGA'"
      ]
     },
     "execution_count": 8,
     "metadata": {},
     "output_type": "execute_result"
    }
   ],
   "source": [
    "def rev_comp(seq):\n",
    "    #get reverse complement\n",
    "    ATGC_dict= {'A':'T', 'T':'A', 'C':'G', 'G':'C', 'N':'N'}\n",
    "    RC= ''\n",
    "    i= len(seq)-1\n",
    "    while i>=0:\n",
    "        RC += ATGC_dict[seq[i]]\n",
    "        i -= 1\n",
    "    return(RC)\n",
    "\n",
    "rev_comp('TCTAG')"
   ]
  },
  {
   "cell_type": "code",
   "execution_count": 25,
   "metadata": {},
   "outputs": [
    {
     "name": "stdout",
     "output_type": "stream",
     "text": [
      "@ is 31\n",
      "N is 45\n"
     ]
    }
   ],
   "source": [
    "def to_score(char):\n",
    "    #convert from ASCII character to number\n",
    "    score= ord(char)-33\n",
    "    return(score)\n",
    "\n",
    "print('@ is %i' % to_score('@'))\n",
    "print('N is %i' % to_score('N'))"
   ]
  },
  {
   "cell_type": "code",
   "execution_count": 34,
   "metadata": {},
   "outputs": [
    {
     "name": "stdout",
     "output_type": "stream",
     "text": [
      "scores: [16.5, 16.5, 35.0, 35.0, 0.0, 0.0, 0.0, 0.0, 0.0, 0.0, 0.0, 0.0, 0.0, 0.0, 0.0, 0.0, 0.0, 0.0, 0.0, 0.0, 0.0, 0.0, 0.0, 0.0, 0.0, 0.0, 0.0, 0.0, 0.0, 0.0, 0.0, 0.0, 0.0, 0.0, 0.0, 0.0, 0.0, 0.0, 0.0, 0.0, 0.0, 0.0, 0.0, 0.0, 0.0, 0.0, 0.0, 0.0, 0.0, 0.0, 0.0, 0.0, 0.0, 0.0, 0.0, 0.0, 0.0, 0.0, 0.0, 0.0, 0.0, 0.0, 0.0, 0.0, 0.0, 0.0, 0.0, 0.0, 0.0, 0.0, 0.0, 0.0, 0.0, 0.0, 0.0, 0.0, 0.0, 0.0, 0.0, 0.0, 0.0, 0.0, 0.0, 0.0, 0.0, 0.0, 0.0, 0.0, 0.0, 0.0, 0.0, 0.0, 0.0, 0.0, 0.0, 0.0, 0.0, 0.0, 0.0, 0.0]\n"
     ]
    }
   ],
   "source": [
    "def score_by_pos(seqL):\n",
    "    #get score by position\n",
    "    posScore= [0]*100\n",
    "    numSeqs= len(seqL)\n",
    "    for i in seqL:\n",
    "        for j in range(len(i)):\n",
    "            posScore[j] += ord(i[j])-33\n",
    "    \n",
    "    avgPosScore= [0]*100\n",
    "    for j in range(len(posScore)):\n",
    "        avgPosScore[j]= posScore[j]/numSeqs\n",
    "    return(avgPosScore)\n",
    "\n",
    "print('scores:', score_by_pos(['@@HH','##@@']))"
   ]
  },
  {
   "cell_type": "code",
   "execution_count": 11,
   "metadata": {},
   "outputs": [
    {
     "name": "stdout",
     "output_type": "stream",
     "text": [
      "[2]\n",
      "[2, 6]\n"
     ]
    }
   ],
   "source": [
    "def naive(pattern, text):\n",
    "    #naive pattern match\n",
    "    matchPosL=[]\n",
    "    for i in range(len(text) - len(pattern) + 1):\n",
    "        match= True\n",
    "        #print('i: %i' %i)\n",
    "        for j in range(len(pattern)):\n",
    "            #print('\\tj: %i' %j)\n",
    "            if text[i+j] != pattern[j]:\n",
    "                match= False\n",
    "                break\n",
    "        if match== True:\n",
    "            matchPosL.append(i)\n",
    "            #print('Match!')\n",
    "    return(matchPosL)\n",
    "\n",
    "print( naive('TCT', 'AATCTA') )\n",
    "print( naive('TCT', 'AATCTATCT') )"
   ]
  },
  {
   "cell_type": "code",
   "execution_count": 12,
   "metadata": {},
   "outputs": [
    {
     "name": "stdout",
     "output_type": "stream",
     "text": [
      "[2]\n",
      "[2, 6]\n"
     ]
    }
   ],
   "source": [
    "def naive_2mm(pattern, text):\n",
    "    #naive pattern match, allowing two mismatches\n",
    "    matchPosL=[]\n",
    "    for i in range(len(text) - len(pattern) + 1):\n",
    "        MM= 0\n",
    "        #print('i: %i' %i)\n",
    "        for j in range(len(pattern)):\n",
    "            #print('\\tj: %i' %j)\n",
    "            if text[i+j] != pattern[j]:\n",
    "                MM += 1\n",
    "            if MM > 2:\n",
    "                break\n",
    "        if MM<= 2:\n",
    "            matchPosL.append(i)\n",
    "            #print('Match! (MM: %i)' %MM)\n",
    "    return(matchPosL)\n",
    "\n",
    "print( naive_2mm('TCT', 'AAACTA') )\n",
    "print( naive('TCT', 'AATCTATCT') )"
   ]
  },
  {
   "cell_type": "code",
   "execution_count": 13,
   "metadata": {},
   "outputs": [
    {
     "name": "stdout",
     "output_type": "stream",
     "text": [
      "RC: ACCT\n",
      "150 forward and 156 reverse matches\n"
     ]
    }
   ],
   "source": [
    "#How many times does AGGT or its reverse complement (ACCT) occur in the lambda virus genome?  \n",
    "\n",
    "fwd_matches= len( naive(pattern= 'AGGT', text=genome) )\n",
    "\n",
    "RC= rev_comp('AGGT')\n",
    "print('RC: %s' % RC)\n",
    "rv_matches= len( naive(pattern=RC, text= genome))\n",
    "\n",
    "print('%i forward and %i reverse matches' % (fwd_matches, rv_matches))"
   ]
  },
  {
   "cell_type": "code",
   "execution_count": 14,
   "metadata": {},
   "outputs": [
    {
     "name": "stdout",
     "output_type": "stream",
     "text": [
      "195 forward matches\n"
     ]
    }
   ],
   "source": [
    "#How many times does TTAA or its reverse complement occur in the lambda virus genome?  \n",
    "fwd_matches= len( naive(pattern= 'TTAA', text=genome) )\n",
    "print('%i forward matches' %fwd_matches)"
   ]
  },
  {
   "cell_type": "code",
   "execution_count": 15,
   "metadata": {},
   "outputs": [
    {
     "name": "stdout",
     "output_type": "stream",
     "text": [
      "26028\n"
     ]
    }
   ],
   "source": [
    "#Question 3: What is the offset of the leftmost occurrence of ACTAAGT or its reverse complement in the Lambda virus genome?\n",
    "fwd_matches= naive(pattern= 'ACTAAGT', text= genome)\n",
    "rev_matches= naive(pattern=rev_comp('ACTAAGT'), text= genome)\n",
    "print( min([fwd_matches[0],rev_matches[0]]))"
   ]
  },
  {
   "cell_type": "code",
   "execution_count": 16,
   "metadata": {},
   "outputs": [
    {
     "name": "stdout",
     "output_type": "stream",
     "text": [
      "450\n"
     ]
    }
   ],
   "source": [
    "#What is the offset of the leftmost occurrence of AGTCGA or its reverse complement in the Lambda virus genome?\n",
    "fwd_matches= naive(pattern= 'AGTCGA', text= genome)\n",
    "rev_matches= naive(pattern=rev_comp('AGTCGA'), text= genome)\n",
    "print( min([fwd_matches[0],rev_matches[0]]))"
   ]
  },
  {
   "cell_type": "code",
   "execution_count": 17,
   "metadata": {},
   "outputs": [
    {
     "name": "stdout",
     "output_type": "stream",
     "text": [
      "191\n"
     ]
    }
   ],
   "source": [
    "#How many times does TTCAAGCC occur in the Lambda virus genome when allowing up to 2 mismatches?\n",
    "print( len(naive_2mm('TTCAAGCC',genome)))"
   ]
  },
  {
   "cell_type": "code",
   "execution_count": 18,
   "metadata": {},
   "outputs": [
    {
     "name": "stdout",
     "output_type": "stream",
     "text": [
      "[49, 282, 299, 302, 380, 1560, 1650, 2235, 2277, 2400, 2562, 2565, 2729, 2823, 3160, 3181, 3946, 4210, 4294, 4309, 4405, 4580, 5069, 5159, 5189, 5231, 5331, 5519, 5737, 5882, 5993, 5996, 6011, 6312, 6522, 6585, 6606, 7316, 7394, 7819, 7904, 7966, 7998, 8534, 8648, 8946, 9339, 9354, 9530, 9842, 9966, 10041, 10250, 10416, 10445, 10484, 10527, 10874, 11193, 11292, 11505, 11568, 11655, 11745, 11838, 12078, 12180, 12222, 12697, 12745, 12819, 12880, 12935, 13011, 13087, 13256, 13415, 13526, 13813, 14259, 15385, 15473, 16192, 17101, 17437, 17755, 17936, 17989, 18016, 18040, 18727, 18853, 18911, 19232, 19263, 19310, 19833, 19929, 19932, 19947, 19980, 20793, 20802, 21305, 21528, 21627, 21684, 22414, 22660, 22670, 22787, 23326, 24063, 24145, 24409, 24595, 24681, 25120, 25139, 25210, 25381, 25384, 25648, 25664, 25773, 25987, 26196, 26208, 26576, 26587, 26653, 26736, 27892, 27967, 28042, 28622, 28840, 28976, 29119, 30029, 30530, 30673, 30902, 31619, 31645, 31682, 31843, 31859, 32069, 33180, 33365, 33715, 33952, 34321, 34421, 34841, 34848, 34956, 35145, 35253, 35289, 35643, 36185, 36687, 36869, 38030, 38197, 38381, 38479, 38737, 39282, 39600, 39681, 39786, 39828, 39954, 40119, 40337, 40508, 40781, 40887, 40890, 40946, 41110, 41225, 41264, 41282, 41324, 41570, 41693, 41717, 41768, 42079, 42082, 42266, 42353, 43039, 43184, 43389, 43662, 43689, 45033, 45727, 45763, 45781, 45790, 46173, 46215, 47028, 47220, 47930, 48101, 48256, 48301, 48411]\n"
     ]
    }
   ],
   "source": [
    "#What is the offset of the leftmost occurrence of AGGAGGTT in the Lambda virus genome when allowing up to 2 mismatches?\n",
    "print(naive_2mm('AGGAGGTT',genome))"
   ]
  },
  {
   "cell_type": "code",
   "execution_count": 39,
   "metadata": {},
   "outputs": [
    {
     "data": {
      "image/png": "[encoded data removed]",
      "text/plain": [
       "<Figure size 640x480 with 1 Axes>"
      ]
     },
     "metadata": {},
     "output_type": "display_data"
    },
    {
     "name": "stdout",
     "output_type": "stream",
     "text": [
      "[38.435, 38.46, 38.4, 38.428, 38.417, 38.382, 38.362, 38.364, 38.325, 38.343, 38.194, 38.154, 38.089, 38.152, 38.153, 38.099, 38.055, 38.041, 38.067, 38.15, 38.087, 37.989, 38.009, 37.909, 38.028, 37.576, 37.514, 37.503, 37.578, 37.552, 37.629, 37.555, 37.548, 37.433, 37.402, 37.343, 37.198, 37.126, 37.158, 36.904, 36.742, 36.677, 36.645, 36.493, 36.509, 36.375, 36.205, 35.974, 35.847, 35.673, 34.832, 34.739, 34.399, 34.402, 34.025, 33.025, 32.882, 32.741, 32.573, 32.224, 30.805, 30.666, 30.343, 30.131, 29.463, 17.891, 4.526, 17.881, 17.865, 17.852, 17.466, 17.131, 17.134, 17.098, 16.852, 23.745, 23.958, 23.221, 22.902, 22.366, 20.904, 20.584, 20.383, 19.767, 19.095, 18.061, 17.757, 17.152, 16.972, 16.286, 14.811, 14.679, 14.31, 14.152, 13.734, 12.538, 12.278, 12.179, 11.676, 11.561]\n",
      "66\n"
     ]
    }
   ],
   "source": [
    "import matplotlib.pyplot as plt\n",
    "import numpy as np\n",
    "\n",
    "qual, _ = read_seq('ERR037900_1.first1000.fastq')\n",
    "# qual_scores= [0]*200\n",
    "# for i in qual:\n",
    "#     for j in range(len(i)):\n",
    "#         score= to_score(i[j])\n",
    "#         qual_scores[score] += 1\n",
    "\n",
    "# print(qual_scores)\n",
    "# plt.plot(range(len(qual_scores)),qual_scores)\n",
    "# plt.show()\n",
    "\n",
    "cnts= score_by_pos(qual)\n",
    "#plt.plot(range(len(cnts)),cnts)\n",
    "plt.bar(range(len(cnts)),cnts)\n",
    "plt.xlabel('Position')\n",
    "plt.ylabel('Score')\n",
    "plt.title('Quality by position')\n",
    "plt.show()\n",
    "print(cnts)\n",
    "cnts_array= np.array(cnts)\n",
    "#print(cnts_array == max(cnts_array))\n",
    "print(np.argmin(cnts_array))"
   ]
  },
  {
   "cell_type": "code",
   "execution_count": 30,
   "metadata": {},
   "outputs": [
    {
     "name": "stdout",
     "output_type": "stream",
     "text": [
      "45696 of 100000 letters are H\n"
     ]
    }
   ],
   "source": [
    "# 72 == H\n",
    "\n",
    "H_count= 0\n",
    "total= 0\n",
    "for q in qual:\n",
    "    for letter in q:\n",
    "        if letter == 'H':\n",
    "            H_count += 1\n",
    "        total += 1\n",
    "\n",
    "print('%i of %i letters are H' % (H_count, total))"
   ]
  }
 ],
 "metadata": {
  "kernelspec": {
   "display_name": "Python 3",
   "language": "python",
   "name": "python3"
  },
  "language_info": {
   "codemirror_mode": {
    "name": "ipython",
    "version": 3
   },
   "file_extension": ".py",
   "mimetype": "text/x-python",
   "name": "python",
   "nbconvert_exporter": "python",
   "pygments_lexer": "ipython3",
   "version": "3.10.0"
  }
 },
 "nbformat": 4,
 "nbformat_minor": 2
}
