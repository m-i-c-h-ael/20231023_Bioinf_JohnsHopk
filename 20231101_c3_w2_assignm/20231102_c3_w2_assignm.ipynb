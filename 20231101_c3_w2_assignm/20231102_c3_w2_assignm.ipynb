{
 "cells": [
  {
   "cell_type": "code",
   "execution_count": 17,
   "metadata": {},
   "outputs": [],
   "source": [
    "from bm_preproc import BoyerMoore\n",
    "from bm_preproc import z_array"
   ]
  },
  {
   "cell_type": "code",
   "execution_count": 54,
   "metadata": {},
   "outputs": [
    {
     "name": "stdout",
     "output_type": "stream",
     "text": [
      "Match 2\n",
      "Match 6\n",
      "Index hits: [2, 6]\n",
      "Character comparisons 8\n",
      "Alignments tried 4\n"
     ]
    }
   ],
   "source": [
    "def get_index_hits (p, p_bm, t):\n",
    "    char_comp= 0\n",
    "    align_try= 0\n",
    "    index_hits= []\n",
    "    t_idx= 0\n",
    "    while t_idx <= len(t)-len(p)+1:\n",
    "        align_try += 1\n",
    "        #print('t_idx %i' %t_idx)\n",
    "        for p_idx in range(len(p)-1,-1,-1):\n",
    "            char_comp += 1\n",
    "            if t[t_idx+p_idx] != p[p_idx]:\n",
    "                bc_skip= p_bm.bad_character_rule(i=p_idx, c=t[t_idx+p_idx])\n",
    "                gs_skip= p_bm.good_suffix_rule(p_idx)\n",
    "                shift= max(bc_skip, gs_skip)\n",
    "                #print('  Mismatch %i, %i' % (t_idx, p_idx))\n",
    "                break\n",
    "        if t[t_idx:t_idx+len(p)]== p:\n",
    "            print('Match %i' % t_idx)\n",
    "            index_hits.append(t_idx)\n",
    "            shift= p_bm.match_skip()\n",
    "        t_idx += shift\n",
    "    return [index_hits, char_comp, align_try]\n",
    "\n",
    "pat= 'ACT'\n",
    "query= 'ACTG'\n",
    "tex= 'TCACTGACT' #'TCACTG'\n",
    "bmObj= BoyerMoore(p= pat)\n",
    "[idx_hits, char_comp, align_try]= get_index_hits(pat, bmObj, tex)\n",
    "print('Index hits:', idx_hits)\n",
    "print('Character comparisons: %i' %char_comp)\n",
    "print('Alignments tried: %i' %align_try)"
   ]
  },
  {
   "cell_type": "code",
   "execution_count": 42,
   "metadata": {},
   "outputs": [
    {
     "name": "stdout",
     "output_type": "stream",
     "text": [
      "index-hit: 2\n",
      "Check match ACTG vs query ACTG\n",
      "index-hit: 6\n",
      "[2]\n"
     ]
    }
   ],
   "source": [
    "def verify(index_hits, t, query, offset=0):\n",
    "    #offset: how far patern it to the right of query start\n",
    "    matchPos= []\n",
    "    for ih in index_hits:\n",
    "        #print('index-hit: %i' %ih)\n",
    "        if t[(ih-offset):(ih+len(query)-offset)] == query:\n",
    "            #print('Check match %s vs query %s' % (t[(ih-offset):(ih+len(query)-offset)], query))\n",
    "            matchPos.append(ih-offset)\n",
    "    return matchPos\n",
    "\n",
    "print( verify(idx_hits, tex, query) )"
   ]
  },
  {
   "cell_type": "code",
   "execution_count": 56,
   "metadata": {},
   "outputs": [
    {
     "name": "stdout",
     "output_type": "stream",
     "text": [
      "Matches: [2]\n",
      "Character comparisons: 9\n",
      "Alignments tried: 6\n"
     ]
    }
   ],
   "source": [
    "def naive_exact(p,t):\n",
    "    char_comp= 0\n",
    "    align_try= 0\n",
    "    matches= []\n",
    "    for t_idx in range(len(t)-len(p)+1):\n",
    "        align_try += 1\n",
    "        #print('t index: %i' %t_idx)\n",
    "        match= 1\n",
    "        for p_idx in range(len(p)):\n",
    "            char_comp += 1\n",
    "            #print(' p index: %i' %p_idx)\n",
    "            if t[t_idx+p_idx] != p[p_idx]:\n",
    "                match= 0\n",
    "                break\n",
    "        if match == 1:\n",
    "            #print('Match: %i' %t_idx)\n",
    "            matches.append(t_idx)\n",
    "    return([matches, char_comp, align_try])\n",
    "\n",
    "[naiveExact_matches, char_comp, align_try]= naive_exact(query, tex)\n",
    "print('Matches:', naiveExact_matches )\n",
    "print('Character comparisons: %i' %char_comp)\n",
    "print('Alignments tried: %i' %align_try)"
   ]
  },
  {
   "cell_type": "code",
   "execution_count": 67,
   "metadata": {},
   "outputs": [
    {
     "name": "stdout",
     "output_type": "stream",
     "text": [
      "TTGAATGCTGAAATCAGCAGGTAATATATGATAATAGAGAAAGCTATCCCGAAGGTGCATAGGTCAACAATACTTGAGCCTAACTCAGTAGATCCTAAAA\n",
      "length 800000\n"
     ]
    }
   ],
   "source": [
    "genome= ''\n",
    "f= open('chr1.GRCh38.excerpt.fasta')\n",
    "while True:\n",
    "    l= f.readline()\n",
    "    l= l.rstrip()\n",
    "    if len(l) == 0:\n",
    "        break\n",
    "    if l[0] != '>':\n",
    "        genome += l\n",
    "\n",
    "print( genome[:100] )\n",
    "print('length %i' %len(genome))"
   ]
  },
  {
   "cell_type": "code",
   "execution_count": 68,
   "metadata": {},
   "outputs": [
    {
     "name": "stdout",
     "output_type": "stream",
     "text": [
      "Alignments 799954\n",
      "Character comparisons 984143\n"
     ]
    }
   ],
   "source": [
    "# 1,\n",
    "query= 'GGCGCGGTGGCTCACGCCTGTAATCCCAGCACTTTGGGAGGCCGAGG'\n",
    "[naiveExact_matches, char_comp, align_try]= naive_exact(query, genome)\n",
    "print('Alignments %i' %align_try)\n",
    "\n",
    "#2,\n",
    "print('Character comparisons %i' %char_comp)"
   ]
  },
  {
   "cell_type": "code",
   "execution_count": 70,
   "metadata": {},
   "outputs": [
    {
     "name": "stdout",
     "output_type": "stream",
     "text": [
      "Match 56922\n",
      "Index hits: [56922]\n",
      "Character comparisons: 165191\n",
      "Alignments tried: 127974\n"
     ]
    }
   ],
   "source": [
    "#3,\n",
    "pat= 'GGCGCGGTGGCTCACGCCTGTAATCCCAGCACTTTGGGAGGCCGAGG'\n",
    "tex= genome\n",
    "bmObj= BoyerMoore(pat)\n",
    "[idx_hits, char_comp, align_try]= get_index_hits(pat, bmObj, tex)\n",
    "print('Index hits:', idx_hits)\n",
    "print('Character comparisons: %i' %char_comp)\n",
    "print('Alignments tried: %i' %align_try)"
   ]
  },
  {
   "cell_type": "code",
   "execution_count": 85,
   "metadata": {},
   "outputs": [
    {
     "name": "stdout",
     "output_type": "stream",
     "text": [
      "1\n",
      "frag: AAAGGCGC\n",
      "2\n",
      "frag: GGTGGCTC\n",
      "3\n",
      "frag: ACGCCTGT\n",
      "Full match positions: {}\n"
     ]
    }
   ],
   "source": [
    "# Pigeonhole\n",
    " #pattern has length 24\n",
    " #allow two MM\n",
    "\n",
    "from kmer_index import Index\n",
    "\n",
    "genome= 'GGCGCGGTGGCTCACGCCTGTAAT'\n",
    "pat= 'AAAGGCGCGGTGGCTCACGCCTGTAATAAA'\n",
    "iObj= Index(genome, 8)\n",
    "\n",
    "frag_cuts= range(0,25,8)\n",
    "match_pos= {}\n",
    "for i in range(1,len(frag_cuts)):\n",
    "    print(i)\n",
    "    frag= pat[frag_cuts[i-1]:frag_cuts[i]]\n",
    "    print('frag: %s' %frag)\n",
    "    \n",
    "    fragMatches= iObj.query(frag) #matches of fragment\n",
    "    if( len(fragMatches)== 0):\n",
    "        continue\n",
    "\n",
    "    for fM_no in fragMatches:\n",
    "        mm_count= 0\n",
    "        # look left\n",
    "        left_end= fM_no - i*8\n",
    "        if left_end < 0 or left_end+len(pat)>len(genome):\n",
    "            continue\n",
    "        for j in range(i*8):\n",
    "            if genome[left_end+j] != pat[j]:\n",
    "                mm_count += 1\n",
    "            if mm_count > 2:\n",
    "                break\n",
    "        #look right\n",
    "        #right_start= fM_no+8\n",
    "        for j in range(len(pat)-i*8,len(pat)):\n",
    "            if genome[left_end+j] !=  pat[j]:\n",
    "                mm_count += 1\n",
    "            if mm_count > 2:\n",
    "                break\n",
    "        if mm_count <= 2:\n",
    "            match_pos.append(fragMatches[fM_no] - i*8)\n",
    "\n",
    "print(\"Full match positions:\", match_pos)"
   ]
  }
 ],
 "metadata": {
  "kernelspec": {
   "display_name": "Python 3",
   "language": "python",
   "name": "python3"
  },
  "language_info": {
   "codemirror_mode": {
    "name": "ipython",
    "version": 3
   },
   "file_extension": ".py",
   "mimetype": "text/x-python",
   "name": "python",
   "nbconvert_exporter": "python",
   "pygments_lexer": "ipython3",
   "version": "3.10.0"
  }
 },
 "nbformat": 4,
 "nbformat_minor": 2
}
