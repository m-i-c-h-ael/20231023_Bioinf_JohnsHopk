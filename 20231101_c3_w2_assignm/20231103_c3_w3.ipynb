{
 "cells": [
  {
   "cell_type": "code",
   "execution_count": 4,
   "metadata": {},
   "outputs": [
    {
     "name": "stdout",
     "output_type": "stream",
     "text": [
      "dist 1\n"
     ]
    }
   ],
   "source": [
    "def recurse(str1, str2):\n",
    "    #alignment with minimal edit distance\n",
    "    #print('%s vs %s' %(str1,str2))\n",
    "    if len(str1)==0:\n",
    "        return(len(str2))\n",
    "    elif len(str2)==0:\n",
    "        return(len(str1))\n",
    "    else:\n",
    "        dist= min(recurse(str1[:-1],str2[:-1]) + 0 if str1[-1]==str2[-1] else 1,\n",
    "            recurse(str1[:-1],str2)+1,\n",
    "            recurse(str1,str2[:-1])+1)\n",
    "        return(dist)\n",
    "\n",
    "str1= 'AA'\n",
    "str2= 'ATA'\n",
    "\n",
    "dist= recurse(str1,str2)\n",
    "print('dist %i' %dist)"
   ]
  },
  {
   "cell_type": "code",
   "execution_count": 4,
   "metadata": {},
   "outputs": [
    {
     "name": "stdout",
     "output_type": "stream",
     "text": [
      "i: 1, j: 1\n",
      "i: 1, j: 2\n",
      "i: 1, j: 3\n",
      "[[0 1 2 3]\n",
      " [1 0 1 2]\n",
      " [2 1 1 1]]\n",
      "i: 2, j: 1\n",
      "i: 2, j: 2\n",
      "i: 2, j: 3\n",
      "[[0 1 2 3]\n",
      " [1 0 1 2]\n",
      " [2 1 1 1]]\n"
     ]
    }
   ],
   "source": [
    "import numpy as np\n",
    "\n",
    "def fill_matrix(str1, str2):\n",
    "    #fill the dynamic programming matrix\n",
    "    mtx= np.empty( shape= (len(str1)+1,len(str2)+1), dtype='i')\n",
    "    mtx[:,0]= range(len(str1)+1)\n",
    "    mtx[0,:]= range(len(str2)+1)\n",
    "    for i in range(1,len(str1)+1):\n",
    "        for j in range(1,len(str2)+1):\n",
    "            print('i: %i, j: %i' %(i, j))\n",
    "            currChar_penalty= 0 if str1[i-1] == str2[j-1] else 1\n",
    "            mtx[i,j]= min( currChar_penalty + mtx[i-1, j-1], #add to i and j\n",
    "                            1 + mtx[i-1, j], #add to i\n",
    "                            1 + mtx[i, j-1] ) #add to j\n",
    "        print(mtx)\n",
    "\n",
    "str1= 'AA'\n",
    "str2= 'ATA'\n",
    "fill_matrix(str1, str2)"
   ]
  }
 ],
 "metadata": {
  "kernelspec": {
   "display_name": "Python 3",
   "language": "python",
   "name": "python3"
  },
  "language_info": {
   "codemirror_mode": {
    "name": "ipython",
    "version": 3
   },
   "file_extension": ".py",
   "mimetype": "text/x-python",
   "name": "python",
   "nbconvert_exporter": "python",
   "pygments_lexer": "ipython3",
   "version": "3.10.0"
  }
 },
 "nbformat": 4,
 "nbformat_minor": 2
}
