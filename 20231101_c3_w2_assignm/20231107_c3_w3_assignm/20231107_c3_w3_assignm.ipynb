{
 "cells": [
  {
   "cell_type": "code",
   "execution_count": 6,
   "metadata": {},
   "outputs": [
    {
     "name": "stdout",
     "output_type": "stream",
     "text": [
      "TTGAATGCTGAAATCAGCAGGTAATATATGATAATAGAGAAAGCTATCCCGAAGGTGCATAGGTCAACAATACTTGAGCCTAACTCAGTAGATCCTAAAA\n"
     ]
    }
   ],
   "source": [
    "def readFasta():\n",
    "    genome= ''\n",
    "    f= open('C:/Users/wrtlb/20231023_Bioinf_JohnsHopk/20231101_c3_w2_assignm/chr1.GRCh38.excerpt.fasta')\n",
    "    while(True):\n",
    "        l= f.readline().rstrip()\n",
    "        if(len(l)== 0):\n",
    "            break\n",
    "        if l[0] != '>':\n",
    "            genome += l\n",
    "    return(genome)\n",
    "\n",
    "genome= readFasta()\n",
    "print(genome[:100])"
   ]
  },
  {
   "cell_type": "code",
   "execution_count": null,
   "metadata": {},
   "outputs": [],
   "source": [
    "def editDistance(x, y):\n",
    "    # Create distance matrix\n",
    "    D = []\n",
    "    for i in range(len(x)+1):\n",
    "        D.append([0]*(len(y)+1))\n",
    "    # Initialize first row and column of matrix\n",
    "    for i in range(len(x)+1):\n",
    "        D[i][0] = i\n",
    "    for i in range(len(y)+1):\n",
    "        D[0][i] = i\n",
    "    # Fill in the rest of the matrix\n",
    "    for i in range(1, len(x)+1):\n",
    "        for j in range(1, len(y)+1):\n",
    "            distHor = D[i][j-1] + 1\n",
    "            distVer = D[i-1][j] + 1\n",
    "            if x[i-1] == y[j-1]:\n",
    "                distDiag = D[i-1][j-1]\n",
    "            else:\n",
    "                distDiag = D[i-1][j-1] + 1\n",
    "            D[i][j] = min(distHor, distVer, distDiag)\n",
    "    # Edit distance is the value in the bottom right corner of the matrix\n",
    "    return D[-1][-1]\n",
    "\n",
    "\n",
    "t= 'ATTCGATA'\n",
    "p= 'TCAAT'\n",
    "print(editDistance(p,t))"
   ]
  },
  {
   "cell_type": "code",
   "execution_count": 19,
   "metadata": {},
   "outputs": [
    {
     "name": "stdout",
     "output_type": "stream",
     "text": [
      "1\n",
      "[0, 0, 0, 0, 0, 0, 0, 0, 0]\n",
      "[1, 1, 0, 0, 1, 1, 1, 0, 1]\n",
      "[2, 2, 1, 1, 0, 1, 2, 1, 1]\n",
      "[3, 2, 2, 2, 1, 1, 1, 2, 1]\n",
      "[4, 3, 3, 3, 2, 2, 1, 2, 2]\n",
      "[5, 4, 3, 3, 3, 3, 2, 1, 2]\n"
     ]
    }
   ],
   "source": [
    "def globAlign(p, t):\n",
    "    #Global alignment of pattern p in text t\n",
    "    # Create distance matrix\n",
    "     # Create empty matrix\n",
    "    D = []\n",
    "    for i in range(len(p)+1):\n",
    "        D.append([0]*(len(t)+1))\n",
    "    # Initialize first row and column of matrix\n",
    "    D[0][:] = [0]*(len(t)+1)\n",
    "    for i in range(len(p)+1):\n",
    "        D[i][0] = i\n",
    "    # Fill in the rest of the matrix\n",
    "    for i in range(1, len(p)+1):\n",
    "        for j in range(1, len(t)+1):\n",
    "            distHor = D[i][j-1] + 1\n",
    "            distVer = D[i-1][j] + 1\n",
    "            if p[i-1] == t[j-1]:\n",
    "                distDiag = D[i-1][j-1]\n",
    "            else:\n",
    "                distDiag = D[i-1][j-1] + 1\n",
    "            D[i][j] = min(distHor, distVer, distDiag)\n",
    "    # Best alignment score is the lowest value of the last row\n",
    "    alnScore= min( D[len(D)-1] )\n",
    "    return (alnScore, D)\n",
    "\n",
    "t= 'ATTCGATA'\n",
    "p= 'TCAAT'\n",
    "penaltyScore= globAlign(p,t)[0]\n",
    "print(penaltyScore)\n",
    "distMtx= globAlign(p,t)[1]\n",
    "for i in range(len(distMtx)):\n",
    "    print(distMtx[i])"
   ]
  }
 ],
 "metadata": {
  "kernelspec": {
   "display_name": "Python 3",
   "language": "python",
   "name": "python3"
  },
  "language_info": {
   "codemirror_mode": {
    "name": "ipython",
    "version": 3
   },
   "file_extension": ".py",
   "mimetype": "text/x-python",
   "name": "python",
   "nbconvert_exporter": "python",
   "pygments_lexer": "ipython3",
   "version": "3.10.0"
  }
 },
 "nbformat": 4,
 "nbformat_minor": 2
}
